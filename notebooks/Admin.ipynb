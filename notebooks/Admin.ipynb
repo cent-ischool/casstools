{
 "cells": [
  {
   "cell_type": "code",
   "execution_count": 6,
   "id": "fb8581f0-a6b3-42c7-8941-a9cfdfb30d26",
   "metadata": {
    "tags": []
   },
   "outputs": [],
   "source": [
    "from casstools.course_model import Course\n",
    "from casstools.cass_client import CassClient"
   ]
  },
  {
   "cell_type": "code",
   "execution_count": 7,
   "id": "1d3b465c-a734-4994-9df7-b71f470dbecd",
   "metadata": {
    "tags": []
   },
   "outputs": [],
   "source": [
    "client = CassClient(cass_url=\"https://cass.app.cent-su.org\")"
   ]
  },
  {
   "cell_type": "code",
   "execution_count": 8,
   "id": "fe636400-5d2a-47b8-85b2-6e833dd8a172",
   "metadata": {
    "tags": []
   },
   "outputs": [
    {
     "data": {
      "text/plain": [
       "{'valid': True,\n",
       " 'last_activity': '2024-01-06T23:20:15.432790Z',\n",
       " 'name': 'mafudge@syr.edu',\n",
       " 'admin': True,\n",
       " 'kind': 'user',\n",
       " 'groups': [],\n",
       " 'fake_token': False}"
      ]
     },
     "execution_count": 8,
     "metadata": {},
     "output_type": "execute_result"
    }
   ],
   "source": [
    "me = client.whoami()\n",
    "me"
   ]
  },
  {
   "cell_type": "code",
   "execution_count": 9,
   "id": "9b97a641-332b-4afd-a1ff-504babd679d3",
   "metadata": {
    "tags": []
   },
   "outputs": [
    {
     "ename": "FileNotFoundError",
     "evalue": "[Errno 2] No such file or directory: 'data/assignments.csv'",
     "output_type": "error",
     "traceback": [
      "\u001b[0;31m---------------------------------------------------------------------------\u001b[0m",
      "\u001b[0;31mFileNotFoundError\u001b[0m                         Traceback (most recent call last)",
      "Cell \u001b[0;32mIn[9], line 4\u001b[0m\n\u001b[1;32m      2\u001b[0m course_key \u001b[38;5;241m=\u001b[39m \u001b[38;5;124m\"\u001b[39m\u001b[38;5;124mist256-spring2024\u001b[39m\u001b[38;5;124m\"\u001b[39m\n\u001b[1;32m      3\u001b[0m courses_list \u001b[38;5;241m=\u001b[39m client\u001b[38;5;241m.\u001b[39mget_courses()\n\u001b[0;32m----> 4\u001b[0m results \u001b[38;5;241m=\u001b[39m \u001b[43mclient\u001b[49m\u001b[38;5;241;43m.\u001b[39;49m\u001b[43madd_course_assignments\u001b[49m\u001b[43m(\u001b[49m\u001b[43mcourse_key\u001b[49m\u001b[43m,\u001b[49m\u001b[43m \u001b[49m\u001b[38;5;124;43m\"\u001b[39;49m\u001b[38;5;124;43mdata/assignments.csv\u001b[39;49m\u001b[38;5;124;43m\"\u001b[39;49m\u001b[43m)\u001b[49m\n\u001b[1;32m      5\u001b[0m results \u001b[38;5;241m=\u001b[39m client\u001b[38;5;241m.\u001b[39madd_course_roster(course_key, \u001b[38;5;124m\"\u001b[39m\u001b[38;5;124mdata/roster.csv\u001b[39m\u001b[38;5;124m\"\u001b[39m)\n",
      "File \u001b[0;32m/opt/conda/lib/python3.11/site-packages/casstools/cass_client.py:48\u001b[0m, in \u001b[0;36mCassClient.add_course_assignments\u001b[0;34m(self, course_key, csv_file_path)\u001b[0m\n\u001b[1;32m     46\u001b[0m \u001b[38;5;28;01mdef\u001b[39;00m \u001b[38;5;21madd_course_assignments\u001b[39m(\u001b[38;5;28mself\u001b[39m, course_key, csv_file_path):\n\u001b[1;32m     47\u001b[0m     headers \u001b[38;5;241m=\u001b[39m {\u001b[38;5;124m\"\u001b[39m\u001b[38;5;124mX-JUPYTERHUB-API-TOKEN\u001b[39m\u001b[38;5;124m\"\u001b[39m: \u001b[38;5;28mself\u001b[39m\u001b[38;5;241m.\u001b[39m_auth_token_}\n\u001b[0;32m---> 48\u001b[0m     \u001b[38;5;28;01mwith\u001b[39;00m \u001b[38;5;28;43mopen\u001b[39;49m\u001b[43m(\u001b[49m\u001b[43mcsv_file_path\u001b[49m\u001b[43m,\u001b[49m\u001b[43m \u001b[49m\u001b[38;5;124;43m\"\u001b[39;49m\u001b[38;5;124;43mrb\u001b[39;49m\u001b[38;5;124;43m\"\u001b[39;49m\u001b[43m)\u001b[49m \u001b[38;5;28;01mas\u001b[39;00m f:\n\u001b[1;32m     49\u001b[0m         file \u001b[38;5;241m=\u001b[39m { \u001b[38;5;124m'\u001b[39m\u001b[38;5;124mfile\u001b[39m\u001b[38;5;124m'\u001b[39m: (\u001b[38;5;124m\"\u001b[39m\u001b[38;5;124massignments.csv\u001b[39m\u001b[38;5;124m\"\u001b[39m, f, \u001b[38;5;124m'\u001b[39m\u001b[38;5;124mtext/csv\u001b[39m\u001b[38;5;124m'\u001b[39m) }\n\u001b[1;32m     50\u001b[0m         response \u001b[38;5;241m=\u001b[39m requests\u001b[38;5;241m.\u001b[39mpost(\u001b[38;5;124mf\u001b[39m\u001b[38;5;124m\"\u001b[39m\u001b[38;5;132;01m{\u001b[39;00m\u001b[38;5;28mself\u001b[39m\u001b[38;5;241m.\u001b[39m_cass_url_\u001b[38;5;132;01m}\u001b[39;00m\u001b[38;5;124m/courses/\u001b[39m\u001b[38;5;132;01m{\u001b[39;00mcourse_key\u001b[38;5;132;01m}\u001b[39;00m\u001b[38;5;124m/assignments\u001b[39m\u001b[38;5;124m\"\u001b[39m, headers\u001b[38;5;241m=\u001b[39mheaders, files\u001b[38;5;241m=\u001b[39mfile)\n",
      "\u001b[0;31mFileNotFoundError\u001b[0m: [Errno 2] No such file or directory: 'data/assignments.csv'"
     ]
    }
   ],
   "source": [
    "status = client.add_course(\"ist256\",\"spring2024\",\"https://github.com/ist256/spring2024.git\")\n",
    "course_key = \"ist256-spring2024\"\n",
    "courses_list = client.get_courses()\n",
    "results = client.add_course_assignments(course_key, \"data/assignments.csv\")\n",
    "results = client.add_course_roster(course_key, \"data/roster.csv\")"
   ]
  },
  {
   "cell_type": "code",
   "execution_count": 18,
   "id": "ecf30dcb-6a22-4765-8a4c-e54b5cccdb88",
   "metadata": {},
   "outputs": [
    {
     "data": {
      "text/html": [
       "<div>\n",
       "<style scoped>\n",
       "    .dataframe tbody tr th:only-of-type {\n",
       "        vertical-align: middle;\n",
       "    }\n",
       "\n",
       "    .dataframe tbody tr th {\n",
       "        vertical-align: top;\n",
       "    }\n",
       "\n",
       "    .dataframe thead th {\n",
       "        text-align: right;\n",
       "    }\n",
       "</style>\n",
       "<table border=\"1\" class=\"dataframe\">\n",
       "  <thead>\n",
       "    <tr style=\"text-align: right;\">\n",
       "      <th></th>\n",
       "      <th>unit_name</th>\n",
       "      <th>assignment_name</th>\n",
       "      <th>points</th>\n",
       "      <th>due_date</th>\n",
       "      <th>lms_column_id</th>\n",
       "    </tr>\n",
       "  </thead>\n",
       "  <tbody>\n",
       "    <tr>\n",
       "      <th>0</th>\n",
       "      <td>00-testing</td>\n",
       "      <td>testing.ipynb</td>\n",
       "      <td>5</td>\n",
       "      <td>2024-09-20 23:59</td>\n",
       "      <td>342634</td>\n",
       "    </tr>\n",
       "    <tr>\n",
       "      <th>1</th>\n",
       "      <td>00-testing</td>\n",
       "      <td>LAB-testing.ipynb</td>\n",
       "      <td>5</td>\n",
       "      <td>2024-09-30 23:59</td>\n",
       "      <td>342123</td>\n",
       "    </tr>\n",
       "  </tbody>\n",
       "</table>\n",
       "</div>"
      ],
      "text/plain": [
       "    unit_name    assignment_name  points          due_date  lms_column_id\n",
       "0  00-testing      testing.ipynb       5  2024-09-20 23:59         342634\n",
       "1  00-testing  LAB-testing.ipynb       5  2024-09-30 23:59         342123"
      ]
     },
     "execution_count": 18,
     "metadata": {},
     "output_type": "execute_result"
    }
   ],
   "source": [
    "course_dict = client.get_course(course_key)\n",
    "assign = client.get_course_assignments(course_key)\n",
    "assign"
   ]
  },
  {
   "cell_type": "code",
   "execution_count": 19,
   "id": "8e87642e-3dc3-4b79-9f2d-67c6d6d87b12",
   "metadata": {},
   "outputs": [
    {
     "data": {
      "text/html": [
       "<div>\n",
       "<style scoped>\n",
       "    .dataframe tbody tr th:only-of-type {\n",
       "        vertical-align: middle;\n",
       "    }\n",
       "\n",
       "    .dataframe tbody tr th {\n",
       "        vertical-align: top;\n",
       "    }\n",
       "\n",
       "    .dataframe thead th {\n",
       "        text-align: right;\n",
       "    }\n",
       "</style>\n",
       "<table border=\"1\" class=\"dataframe\">\n",
       "  <thead>\n",
       "    <tr style=\"text-align: right;\">\n",
       "      <th></th>\n",
       "      <th>student</th>\n",
       "      <th>instructor</th>\n",
       "      <th>grader</th>\n",
       "    </tr>\n",
       "  </thead>\n",
       "  <tbody>\n",
       "    <tr>\n",
       "      <th>0</th>\n",
       "      <td>mafudge@syr.edu</td>\n",
       "      <td>mafudge@syr.edu</td>\n",
       "      <td>mafudge@syr.edu</td>\n",
       "    </tr>\n",
       "    <tr>\n",
       "      <th>1</th>\n",
       "      <td>dlnosky@syr.edu</td>\n",
       "      <td>mafudge@syr.edu</td>\n",
       "      <td>mafudge@syr.edu</td>\n",
       "    </tr>\n",
       "  </tbody>\n",
       "</table>\n",
       "</div>"
      ],
      "text/plain": [
       "           student       instructor           grader\n",
       "0  mafudge@syr.edu  mafudge@syr.edu  mafudge@syr.edu\n",
       "1  dlnosky@syr.edu  mafudge@syr.edu  mafudge@syr.edu"
      ]
     },
     "execution_count": 19,
     "metadata": {},
     "output_type": "execute_result"
    }
   ],
   "source": [
    "roster = client.get_course_roster(course_key)\n",
    "roster"
   ]
  },
  {
   "cell_type": "code",
   "execution_count": 4,
   "id": "08f76174-ddb4-4bf4-afe3-79c893cf45be",
   "metadata": {},
   "outputs": [
    {
     "data": {
      "text/plain": [
       "['ist256/spring2024/00-testing/testing.ipynb',\n",
       " 'ist256/spring2024/00-testing/LAB-testing.ipynb']"
      ]
     },
     "execution_count": 4,
     "metadata": {},
     "output_type": "execute_result"
    }
   ],
   "source": [
    "client.get_course_assignment_names(course_key)"
   ]
  },
  {
   "cell_type": "code",
   "execution_count": 6,
   "id": "137202e6-08b4-491f-bcde-e5de38668bdd",
   "metadata": {},
   "outputs": [
    {
     "data": {
      "text/plain": [
       "{'valid': True,\n",
       " 'last_activity': 'fake',\n",
       " 'name': 'mafudge@syr.edu',\n",
       " 'admin': True,\n",
       " 'kind': None,\n",
       " 'groups': [],\n",
       " 'fake_token': True,\n",
       " 'course_key': 'ist256-spring2024',\n",
       " 'student': True,\n",
       " 'instructor': True,\n",
       " 'grader': True}"
      ]
     },
     "execution_count": 6,
     "metadata": {},
     "output_type": "execute_result"
    }
   ],
   "source": [
    "client.get_user_course_info(course_key)"
   ]
  },
  {
   "cell_type": "code",
   "execution_count": 4,
   "id": "da160782-77a8-4274-b3a1-e267b41c630e",
   "metadata": {},
   "outputs": [],
   "source": [
    "course = Course(course_dict)"
   ]
  },
  {
   "cell_type": "code",
   "execution_count": 11,
   "id": "9ed2de21-f0fe-4114-80c6-f1f2bf3ead53",
   "metadata": {},
   "outputs": [
    {
     "data": {
      "text/plain": [
       "True"
      ]
     },
     "execution_count": 11,
     "metadata": {},
     "output_type": "execute_result"
    }
   ],
   "source": [
    "course.term_folder_is_git"
   ]
  },
  {
   "cell_type": "code",
   "execution_count": 4,
   "id": "cab6333d-fa7b-4af6-a34a-a6e1cbacaa43",
   "metadata": {},
   "outputs": [
    {
     "data": {
      "text/plain": [
       "{'valid': True,\n",
       " 'last_activity': 'fake',\n",
       " 'name': 'mafudge@syr.edu',\n",
       " 'admin': True,\n",
       " 'kind': None,\n",
       " 'groups': [],\n",
       " 'fake_token': True}"
      ]
     },
     "execution_count": 4,
     "metadata": {},
     "output_type": "execute_result"
    }
   ],
   "source": [
    "client.whoami()"
   ]
  },
  {
   "cell_type": "code",
   "execution_count": 5,
   "id": "1b6a127b-0b57-495b-b026-b4ecc6ea20ec",
   "metadata": {},
   "outputs": [
    {
     "data": {
      "text/plain": [
       "'/home/jovyan/library/git/teaching-tools/_new_/Admin.ipynb'"
      ]
     },
     "execution_count": 5,
     "metadata": {},
     "output_type": "execute_result"
    }
   ],
   "source": [
    "filespec = PathParser()\n",
    "filespec.fullpath"
   ]
  },
  {
   "cell_type": "code",
   "execution_count": 7,
   "id": "402068a5-bb1b-48e6-b3d0-1458587f9a39",
   "metadata": {},
   "outputs": [
    {
     "data": {
      "text/plain": [
       "{'etag': '1384fc27faa6725c3ae1cda8bbbea708',\n",
       " 'bucket': 'cass',\n",
       " 'object': 'ist256-spring2024/submit/mafudge@syr.edu/00-testing/testing.ipynb/mafudge@syr.edu/admin.ipynb',\n",
       " 'operation': 'put'}"
      ]
     },
     "execution_count": 7,
     "metadata": {},
     "output_type": "execute_result"
    }
   ],
   "source": [
    "client.submit_assignment(course_key,filespec.fullpath, \"testing.ipynb\",\"mafudge@syr.edu\")"
   ]
  },
  {
   "cell_type": "markdown",
   "id": "30907233-f2f6-4d3b-9157-72f7d5fd18e6",
   "metadata": {},
   "source": []
  },
  {
   "cell_type": "code",
   "execution_count": null,
   "id": "e86c4d41-556c-498a-855a-e9935c971f3f",
   "metadata": {},
   "outputs": [],
   "source": []
  },
  {
   "cell_type": "code",
   "execution_count": 12,
   "id": "376513aa-a381-4bb5-9424-b931307338df",
   "metadata": {},
   "outputs": [],
   "source": []
  },
  {
   "cell_type": "code",
   "execution_count": null,
   "id": "63ee8ba4-46b8-47a7-b351-87ef4e8934b1",
   "metadata": {},
   "outputs": [],
   "source": []
  },
  {
   "cell_type": "code",
   "execution_count": 10,
   "id": "fff12086-c18d-46e4-8934-a8fb2b0d0440",
   "metadata": {},
   "outputs": [
    {
     "name": "stdout",
     "output_type": "stream",
     "text": [
      "/home/jovyan/library/git/teaching-tools/_new_/Admin.ipynb\n"
     ]
    },
    {
     "data": {
      "text/plain": [
       "<submission.Submission at 0x7f652db8ce50>"
      ]
     },
     "execution_count": 10,
     "metadata": {},
     "output_type": "execute_result"
    }
   ],
   "source": []
  },
  {
   "cell_type": "code",
   "execution_count": null,
   "id": "6052a429-3c89-406b-bfee-589c28435e77",
   "metadata": {},
   "outputs": [],
   "source": []
  },
  {
   "cell_type": "code",
   "execution_count": 4,
   "id": "9d436230-d916-438d-9350-dfadf066efb7",
   "metadata": {
    "tags": []
   },
   "outputs": [],
   "source": [
    "import coursetools"
   ]
  },
  {
   "cell_type": "code",
   "execution_count": 5,
   "id": "d89d2d2d-f0ea-47fb-a98e-7c03b696f9fb",
   "metadata": {
    "tags": []
   },
   "outputs": [
    {
     "ename": "ModuleNotFoundError",
     "evalue": "No module named 'casstools'",
     "output_type": "error",
     "traceback": [
      "\u001b[0;31m---------------------------------------------------------------------------\u001b[0m",
      "\u001b[0;31mModuleNotFoundError\u001b[0m                       Traceback (most recent call last)",
      "Cell \u001b[0;32mIn[5], line 1\u001b[0m\n\u001b[0;32m----> 1\u001b[0m \u001b[38;5;28;01mimport\u001b[39;00m \u001b[38;5;21;01mcasstools\u001b[39;00m\n",
      "\u001b[0;31mModuleNotFoundError\u001b[0m: No module named 'casstools'"
     ]
    }
   ],
   "source": [
    "import casstools"
   ]
  },
  {
   "cell_type": "code",
   "execution_count": null,
   "id": "2fd25e25-badb-4827-85d4-a9f1cde71a87",
   "metadata": {},
   "outputs": [],
   "source": []
  }
 ],
 "metadata": {
  "kernelspec": {
   "display_name": "Python 3 (ipykernel)",
   "language": "python",
   "name": "python3"
  },
  "language_info": {
   "codemirror_mode": {
    "name": "ipython",
    "version": 3
   },
   "file_extension": ".py",
   "mimetype": "text/x-python",
   "name": "python",
   "nbconvert_exporter": "python",
   "pygments_lexer": "ipython3",
   "version": "3.11.7"
  }
 },
 "nbformat": 4,
 "nbformat_minor": 5
}
