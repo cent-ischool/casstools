{
 "cells": [
  {
   "cell_type": "code",
   "execution_count": null,
   "id": "f63b72e1-e1ac-48b8-b705-09af1f2d585e",
   "metadata": {
    "tags": []
   },
   "outputs": [],
   "source": []
  },
  {
   "cell_type": "code",
   "execution_count": 171,
   "id": "a2cb52ef-5a45-442e-ba25-1229aceaa7ad",
   "metadata": {
    "tags": []
   },
   "outputs": [],
   "source": [
    "import nbformat\n",
    "from casstools.path_parser import PathParser\n",
    "from casstools import code_tools as ct\n",
    "\n",
    "OK = \"\\U00002705\"\n",
    "QUESTION = \"\\U00002753\"\n",
    "CANCEL = \"\\U0000274C\"\n",
    "\n",
    "\n",
    "class NotebookFile(object):\n",
    "\n",
    "    def __init__(self, filespec = None):\n",
    "        \n",
    "        if filespec is None:\n",
    "            filespec = PathParser().fullpath\n",
    "\n",
    "        self.filespec = filespec\n",
    "        self.contents = self.load_notebook(filespec)\n",
    "        self.filetype = self.__get_file_type(filespec)\n",
    "\n",
    "\n",
    "    def __get_file_type(self, filespec):\n",
    "        file_type = filespec.split(\"/\")[-1].split(\"-\")[0].upper()\n",
    "        return file_type\n",
    "\n",
    "    def load_notebook(self, path: str):\n",
    "        with open(path, \"r\") as f:\n",
    "            return nbformat.read(f, as_version=4)\n",
    "\n",
    "    def _extract_metadata_value(self, cell, key):\n",
    "        '''\n",
    "        Extracts metadata value from cell using key \n",
    "        first checks under ['metadata']['cass'][key]\n",
    "        then under legaccy ['metadata'][key]\n",
    "        '''\n",
    "        md = cell['metadata']\n",
    "        if md.get(\"cass\", None) is not None:\n",
    "            return md['cass'].get(key, None)\n",
    "        else:\n",
    "            return md.get(key, None)\n",
    "\n",
    "    @property\n",
    "    def code_cells(self):\n",
    "        return [c for c in self.contents.cells if c.cell_type == \"code\"]\n",
    "\n",
    "    @property\n",
    "    def markdown_cells(self):\n",
    "        return [c for c in self.contents.cells if c.cell_type == \"markdown\"]\n",
    "\n",
    "    @property\n",
    "    def raw_cells(self):\n",
    "        return [c for c in self.contents.cells if c.cell_type == \"raw\"]\n",
    "\n",
    "\n",
    "    def has_submission_cell(self):\n",
    "        submission = \"from casstools.assignment import Assignment\\nAssignment().submit()\"\n",
    "        for c in self.code_cells:\n",
    "            if c['source'].find(submission) >=0:\n",
    "                return True\n",
    "        return False\n",
    "            \n",
    "\n",
    "    def code_cells_of_type(self, cell_type, executed_only=False):\n",
    "        '''\n",
    "        return a list of code cells with the \"cell_type\" as their designation\n",
    "        designation is found in:\n",
    "        1) ['metadata']['cass']['code_cell_type'] or \n",
    "        2) ['metadata']['code_cell_type'] if the \"cass\" key does not exist.\n",
    "        '''\n",
    "        cells = [c for c in self.code_cells if self._extract_metadata_value(c, \"code_cell_type\") == cell_type]\n",
    "        if executed_only:\n",
    "            return [c for c in cells if c.execution_count is not None and c.execution_count >=1]\n",
    "        else:\n",
    "            return cells\n",
    "\n",
    "    def markdown_cells_of_type(self, cell_type):\n",
    "        cells = [c for c in self.markdown_cells if self._extract_metadata_value(c, \"label\") == cell_type]\n",
    "        return cells \n",
    "        \n",
    "    @property\n",
    "    def exercise_code_cells(self):\n",
    "        cells = [c for c in self.code_cells if self._extract_metadata_value(c, \"code_cell_type\") in [\"debug_code\", \"write_code\"]]\n",
    "        return cells\n",
    "\n",
    "    def __check(self, boolean_expression):\n",
    "        if boolean_expression:\n",
    "            return OK\n",
    "        else:\n",
    "            return CANCEL\n",
    "\n",
    "    def validate_lab(self):\n",
    "        '''\n",
    "        validated the lab file has the necessary metadata cells for the self-check, and lab is ready to publish. This is an author's tool to make sure check_lab will work.\n",
    "        '''\n",
    "        check1 = self.__check(self.has_submission_cell)\n",
    "        print(f\"\\t{check1} notebook: has submission cell\")\n",
    "        \n",
    "        for rc_cell in self.code_cells_of_type(\"run_code\"):\n",
    "\n",
    "            print(\"CELL:\", rc_cell)\n",
    "            \n",
    "            check1 = self.__check(len(rc_cell['source']) > 0)\n",
    "            print(f\"\\t{check1} run_code cell: should have has code\")\n",
    "            \n",
    "            check2 = self.__check(rc_cell['execution_count'] is None)\n",
    "            print(f\"\\t{check2} run_code cell: should be no execution_count\")                \n",
    "\n",
    "        for ec_cell in self.exercise_code_cells:\n",
    "\n",
    "            print(\"CELL\", ec_cell)\n",
    "\n",
    "            label = self._extract_metadata_value(ec_cell, \"label\")\n",
    "            check1 = self.__check(label is not None)           \n",
    "            print(f\"\\t{check1} exercise_code cell: has label {label}\")\n",
    "\n",
    "            code_cell_type = self._extract_metadata_value(ec_cell, \"code_cell_type\")\n",
    "            check2 = self.__check(code_cell_type is not None)           \n",
    "            print(f\"\\t{check2} exercise_code cell: has code_cell_type {code_cell_type}\")\n",
    "\n",
    "            if code_cell_type == \"write_code\":\n",
    "                student_code = \"\\n\".join([line for line in ec_cell.source.split(\"\\n\") if not line.strip().startswith(\"#\")]).strip()\n",
    "                check3 = self.__check(student_code == \"\")\n",
    "                print(f\"\\t{check3} exercise_code cell: code_cell_type='write_code' cell should be empty {student_code}\")\n",
    "\n",
    "            solution_code = \"\".join(self._extract_metadata_value(ec_cell, \"solution\"))\n",
    "            check4 = self.__check(solution_code is not None)\n",
    "            print(f\"\\t{check4} exercise_code cell: should have solution_code metadata\")\n",
    "\n",
    "        comfort_cells = self.markdown_cells_of_type(\"comfort_cell\")\n",
    "        print(\"CELL\", comfort_cells)\n",
    "        check1 = self.__check(len(comfort_cells)==1)       \n",
    "        print(f\"\\t{check1} comfort_cell: should have ONE comfort cell\")\n",
    "        check2 = self.__check(comfort_cells[0]['source'].strip()==\"\")\n",
    "        print(f\"\\t{check1} comfort_cell: should should be empty\")\n",
    "\n",
    "        questions_cells = self.markdown_cells_of_type(\"question_cell\")\n",
    "        print(\"CELL\", questions_cells)\n",
    "        check1 = self.__check(len(questions_cells)==1)       \n",
    "        print(f\"\\t{check1} question_cell: should have ONE questions cell\")\n",
    "        check2 = self.__check(questions_cells[0]['source'].strip()==\"\")\n",
    "        print(f\"\\t{check1} question_cell: should should be empty\")\n",
    "        \n",
    "\n",
    "    \n",
    "    def check_lab(self, output_issues=True):\n",
    "        '''\n",
    "        Pre-check/ pre-grade lab before submission.\n",
    "        '''\n",
    "        row = { 'issues': [], 'details': [] }\n",
    "        # INVENTORY\n",
    "        run_code_cells = self.code_cells_of_type(\"run_code\")\n",
    "        exercise_code_cells =  self.exercise_code_cells\n",
    "        all_code_cells = run_code_cells + exercise_code_cells\n",
    "        executed_cells = [c for c in all_code_cells if c.execution_count is not None and c.execution_count >=1]\n",
    "        row['code_cells'] = len(all_code_cells)\n",
    "        row['code_cells_executed'] = len(executed_cells)\n",
    "        row['code_cells_pct'] = f\"{row['code_cells_executed']/row['code_cells']}\"\n",
    "        if float(row['code_cells_pct']) < 1.0:\n",
    "            row['issues'].append(\"Not all code cells were executed.\")\n",
    "            \n",
    "        try:\n",
    "            comfort_cell = self.markdown_cells_of_type(\"comfort_cell\")[0]\n",
    "            row['comfort_level'] = comfort_cell['source'].strip()\n",
    "            if row['comfort_level'] == \"\":\n",
    "                row['issues'].append(\"Comfort level is blank.\")\n",
    "            elif row['comfort_level'].isdigit():\n",
    "                c = int(row['comfort_level']) \n",
    "                if not c in [1,2,3,4]:\n",
    "                    row['issues'].append(\"Comfort level should be 1,2,3 or 4.\")\n",
    "            else:\n",
    "                 row['issues'].append(\"Comfort level should be 1,2,3 or 4.\")\n",
    "                \n",
    "        except IndexError:\n",
    "            print(\"ERROR: Missing Comfort Cell. Did you erase it?\")\n",
    "\n",
    "        try:\n",
    "            question_cell = self.markdown_cells_of_type(\"question_cell\")[0]\n",
    "            row['questions'] = question_cell['source'].strip()\n",
    "            if row['questions'] == \"\":\n",
    "                row['issues'].append(\"Questions cell is blank. You should have a question or comment.\")\n",
    "    \n",
    "        except IndextError:\n",
    "            print(\"ERROR: Missing Question Cell. Did you erase it?\")\n",
    "\n",
    "        \n",
    "        for cell in exercise_code_cells:\n",
    "            label = self._extract_metadata_value(cell, \"label\")\n",
    "            student_code = \"\\n\".join([line for line in cell.source.split(\"\\n\") if not line.strip().startswith(\"#\")]).strip()\n",
    "            solution_code = \"\".join(self._extract_metadata_value(cell, \"solution\"))\n",
    "            syntax = ct.syntax_check(student_code)\n",
    "            similarity = ct.code_similarity_check(solution_code, student_code)\n",
    "\n",
    "            row[label] = { \n",
    "                'has_code': 'no' if student_code == \"\" else 'yes',\n",
    "                'syntax': 'ok' if syntax['ok'] else 'error',\n",
    "                'similarity': similarity['pct_similar']\n",
    "            }\n",
    "            details = {\n",
    "                'label': label,\n",
    "                'data' : row[label],\n",
    "                'syntax': syntax,\n",
    "                'similarity': similarity,\n",
    "                'student': student_code,\n",
    "                'solution': solution_code\n",
    "            }\n",
    "            row['details'].append(details)\n",
    "\n",
    "            if row[label]['has_code'] == 'no':\n",
    "                row['issues'].append(f\"{label} does not have a code solution.\")\n",
    "            elif row[label]['syntax'] == 'error':\n",
    "                row['issues'].append(f\"{label} code has syntax error: {syntax['error']}\")\n",
    "            elif float(row[label]['similarity']) < 0.5:\n",
    "                row['issues'].append(f\"{label} code not at least 50% similar to expected solution.\")\n",
    "\n",
    "        \n",
    "        if output_issues:\n",
    "            for issue in row['issues']:\n",
    "                print(f\"{CANCEL} {issue}\")\n",
    "            if len(row['issues']) == 0:    \n",
    "                print(f\"{OK} The lab submission appears to have no issues.\")\n",
    "                print(f\"  {row['code_cells_pct']} Percent of cell executed.\")\n",
    "                print(\"  Summary of code Exercises\")\n",
    "                print(\"  CODE\\tSYNTAX\\tSIMILARITY\")\n",
    "                for d in row['details']:\n",
    "                    print(f\"  {d['label']}\\t{d['data']['syntax']}\\t{d['data']['similarity']}\")\n",
    "        else:         \n",
    "            return row\n"
   ]
  },
  {
   "cell_type": "code",
   "execution_count": 172,
   "id": "53d839d9-fdac-48e9-a5f3-bac7942caaf6",
   "metadata": {},
   "outputs": [
    {
     "data": {
      "text/plain": [
       "'/home/jovyan/library/git/casstools/notebooks/Sample.ipynb'"
      ]
     },
     "execution_count": 172,
     "metadata": {},
     "output_type": "execute_result"
    }
   ],
   "source": [
    "PathParser().fullpath\n",
    "nb = NotebookFile()\n",
    "nb.filespec"
   ]
  },
  {
   "cell_type": "code",
   "execution_count": 173,
   "id": "72713060-e3a5-4672-9777-93e576a3be2e",
   "metadata": {
    "tags": []
   },
   "outputs": [
    {
     "name": "stdout",
     "output_type": "stream",
     "text": [
      "❌ Not all code cells were executed.\n",
      "❌ Comfort level is blank.\n",
      "❌ Questions cell is blank. You should have a question or comment.\n",
      "❌ 1.1 does not have a code solution.\n",
      "❌ 1.2 code has syntax error:    line 1\n",
      "    name = input \"Enter your name: \"\n",
      "                 ^^^^^^^^^^^^^^^^^^^\n",
      "SyntaxError: invalid syntax\n",
      "\n",
      "❌ 1.3 does not have a code solution.\n",
      "❌ 1.4 does not have a code solution.\n",
      "❌ 1.5 does not have a code solution.\n"
     ]
    }
   ],
   "source": [
    "nb = NotebookFile(\"/home/jovyan/library/ist256/spring2024/lessons/01-Intro/LAB-Intro.ipynb\")\n",
    "nb.check_lab()\n",
    "# nb.code_cells"
   ]
  },
  {
   "cell_type": "code",
   "execution_count": 170,
   "id": "6e534585-d1b1-4cd6-8664-730a7c859116",
   "metadata": {
    "tags": []
   },
   "outputs": [
    {
     "name": "stdout",
     "output_type": "stream",
     "text": [
      "LAB\n"
     ]
    }
   ],
   "source": [
    "nb = NotebookFile(\"/home/jovyan/library/ist256/spring2024/lessons/01-Intro/LAB-Intro.ipynb\")\n",
    "total_run_code_cells = len(nb.code_cells_of_type(\"run_code\"))\n",
    "total_executed_run_code_cells = len(nb.code_cells_of_type(\"run_code\", executed_only=True))\n",
    "print(nb.filetype)"
   ]
  },
  {
   "cell_type": "code",
   "execution_count": 8,
   "id": "c5c93cea-6cd0-4d78-97d3-bb93c3d27412",
   "metadata": {
    "tags": []
   },
   "outputs": [
    {
     "name": "stdout",
     "output_type": "stream",
     "text": [
      "1.1 {'ok': True, 'output': '', 'error': ''} {'similar_token_count': 0, 'total_tokens': 5, 'pct_similar': 0.0}\n",
      " x = input(\"What is your name? \")\n",
      "print(\"Hello there\",x)\n",
      "\n",
      "1.2 {'ok': False, 'output': '', 'error': '   line 1\\n    name = input \"Enter your name: \"\\n                 ^^^^^^^^^^^^^^^^^^^\\nSyntaxError: invalid syntax\\n'} {'similar_token_count': 0, 'total_tokens': 0, 'pct_similar': 0}\n",
      "name = input \"Enter your name: \"\n",
      "foo = input(\"Enter your age: \")\n",
      "print(name, \"is\" )\n",
      " name = input(\"Enter your name: \")\n",
      "age = input(\"Enter your age: \")\n",
      "print(name, \"is\", age)\n",
      "\n",
      "1.3 {'ok': True, 'output': '', 'error': ''} {'similar_token_count': 0, 'total_tokens': 6, 'pct_similar': 0.0}\n",
      " first_name = input(\"Enter your first name:\")\n",
      "last_name = input(\"Enter your last name:\")\n",
      "print(\"Hello\",first_name, last_name)\n",
      "\n",
      "1.4 {'ok': True, 'output': '', 'error': ''} {'similar_token_count': 0, 'total_tokens': 19, 'pct_similar': 0.0}\n",
      " first=input(\"What is your favorite color?\")\n",
      "second=input(\"What is your second favorite color?\")\n",
      "third=input(\"What is your third favorite color?\")\n",
      "print(\"Your colors are: \" + first + \", \" + second + \", and \" + third + \".\")\n",
      "print(\"The middle color is \" + second + \".\")    \n",
      "\n",
      "1.5 {'ok': True, 'output': '', 'error': ''} {'similar_token_count': 0, 'total_tokens': 18, 'pct_similar': 0.0}\n",
      " first=input(\"What is your favorite color?\")\n",
      "second=input(\"What is your second favorite color?\")\n",
      "third=input(\"What is your third favorite color?\")\n",
      "print(f\"Your colors are: {first}, {second}, and {third}.\")\n",
      "print(f\"The middle color is {second}.\")\n",
      "\n"
     ]
    }
   ],
   "source": [
    "for cell in nb.exercise_code_cells:\n",
    "    label = nb._extract_metadata_value(cell, \"label\")\n",
    "    student_code = \"\\n\".join([line for line in cell.source.split(\"\\n\") if not line.strip().startswith(\"#\")])\n",
    "    solution_code = \"\".join(nb._extract_metadata_value(cell, \"solution\"))\n",
    "    syntax = ct.syntax_check(student_code)\n",
    "    similarity = ct.code_similarity_check(solution_code, student_code)\n",
    "    print(label, syntax, similarity)\n",
    "    print(student_code, solution_code)"
   ]
  },
  {
   "cell_type": "code",
   "execution_count": 6,
   "id": "2a8cce3f-36ca-4fe5-8d99-41e546fb1afb",
   "metadata": {
    "tags": []
   },
   "outputs": [
    {
     "data": {
      "text/plain": [
       "{'ok': True, 'output': '', 'error': ''}"
      ]
     },
     "execution_count": 6,
     "metadata": {},
     "output_type": "execute_result"
    }
   ],
   "source": [
    "syntax"
   ]
  },
  {
   "cell_type": "code",
   "execution_count": null,
   "id": "200dc3cd-593a-4a0b-ba93-9a87e6d0791d",
   "metadata": {},
   "outputs": [],
   "source": []
  },
  {
   "cell_type": "code",
   "execution_count": null,
   "id": "4e100c78-3451-4a3f-a557-0ed35b32f151",
   "metadata": {},
   "outputs": [],
   "source": []
  },
  {
   "cell_type": "code",
   "execution_count": 52,
   "id": "a2142a35-1816-4b30-8136-4961e58f3857",
   "metadata": {},
   "outputs": [
    {
     "ename": "TypeError",
     "evalue": "object of type 'NoneType' has no len()",
     "output_type": "error",
     "traceback": [
      "\u001b[0;31m---------------------------------------------------------------------------\u001b[0m",
      "\u001b[0;31mTypeError\u001b[0m                                 Traceback (most recent call last)",
      "Cell \u001b[0;32mIn[52], line 1\u001b[0m\n\u001b[0;32m----> 1\u001b[0m \u001b[38;5;28;43mlen\u001b[39;49m\u001b[43m(\u001b[49m\u001b[38;5;28;43;01mNone\u001b[39;49;00m\u001b[43m)\u001b[49m\n",
      "\u001b[0;31mTypeError\u001b[0m: object of type 'NoneType' has no len()"
     ]
    }
   ],
   "source": []
  },
  {
   "cell_type": "code",
   "execution_count": null,
   "id": "aeeaf333-3507-4706-940c-774fbd3bc998",
   "metadata": {},
   "outputs": [],
   "source": []
  },
  {
   "cell_type": "code",
   "execution_count": null,
   "id": "f8224e21-63a2-43e6-8e8d-c50d0eb7d239",
   "metadata": {},
   "outputs": [],
   "source": []
  },
  {
   "cell_type": "code",
   "execution_count": null,
   "id": "09c9132f-da3e-4b79-ab36-acbc5a89463a",
   "metadata": {},
   "outputs": [],
   "source": []
  },
  {
   "cell_type": "code",
   "execution_count": null,
   "id": "1cd42422-73d6-4571-8387-62a3eab9c8ad",
   "metadata": {},
   "outputs": [],
   "source": []
  },
  {
   "cell_type": "code",
   "execution_count": 1,
   "id": "f95a9f17-014b-41e6-8747-79677f110c8f",
   "metadata": {},
   "outputs": [
    {
     "name": "stdin",
     "output_type": "stream",
     "text": [
      "ℹ Submit Again? [y/n] ❓  ds\n"
     ]
    },
    {
     "data": {
      "text/plain": [
       "False"
      ]
     },
     "execution_count": 1,
     "metadata": {},
     "output_type": "execute_result"
    }
   ],
   "source": [
    "from assignment import Assignment\n",
    "Assignment()._confirm_submission(False,True)"
   ]
  },
  {
   "cell_type": "code",
   "execution_count": null,
   "id": "15adb921-4233-48c4-a280-660bd6be0768",
   "metadata": {},
   "outputs": [],
   "source": []
  },
  {
   "cell_type": "code",
   "execution_count": null,
   "id": "37dbc485-714a-42ea-a428-5d11499d8052",
   "metadata": {},
   "outputs": [],
   "source": []
  },
  {
   "cell_type": "code",
   "execution_count": 3,
   "id": "ae5e4a8b-9c9c-464e-a1e7-e006315efd93",
   "metadata": {},
   "outputs": [],
   "source": [
    "from datetime import datetime"
   ]
  },
  {
   "cell_type": "code",
   "execution_count": 17,
   "id": "1f1a1812-b2f0-4f7b-8d17-94d4700cc5a0",
   "metadata": {},
   "outputs": [],
   "source": [
    "assignment_due_date = \"2024-09-20 23:59\"\n",
    "due = datetime.strptime(assignment_due_date, \"%Y-%m-%d %H:%M\")\n",
    "now = datetime.now()"
   ]
  },
  {
   "cell_type": "code",
   "execution_count": 15,
   "id": "d9dc2dca-0ee9-4549-8fbe-272e889a2c40",
   "metadata": {},
   "outputs": [
    {
     "data": {
      "text/plain": [
       "'2024-01-06 12:34'"
      ]
     },
     "execution_count": 15,
     "metadata": {},
     "output_type": "execute_result"
    }
   ],
   "source": [
    "now.strftime(\"%Y-%m-%d %H:%M\")"
   ]
  },
  {
   "cell_type": "code",
   "execution_count": 21,
   "id": "a31444a6-ea84-4b22-895e-072317a8184a",
   "metadata": {},
   "outputs": [
    {
     "data": {
      "text/plain": [
       "True"
      ]
     },
     "execution_count": 21,
     "metadata": {},
     "output_type": "execute_result"
    }
   ],
   "source": [
    "now <= due"
   ]
  },
  {
   "cell_type": "code",
   "execution_count": 2,
   "id": "4ae6ec51-b23e-456b-87af-11727ac76213",
   "metadata": {},
   "outputs": [],
   "source": [
    "import pandas as pd"
   ]
  },
  {
   "cell_type": "code",
   "execution_count": 12,
   "id": "ae8c768f-830d-4351-a65b-42859daa3fe4",
   "metadata": {},
   "outputs": [
    {
     "data": {
      "text/html": [
       "<div>\n",
       "<style scoped>\n",
       "    .dataframe tbody tr th:only-of-type {\n",
       "        vertical-align: middle;\n",
       "    }\n",
       "\n",
       "    .dataframe tbody tr th {\n",
       "        vertical-align: top;\n",
       "    }\n",
       "\n",
       "    .dataframe thead th {\n",
       "        text-align: right;\n",
       "    }\n",
       "</style>\n",
       "<table border=\"1\" class=\"dataframe\">\n",
       "  <thead>\n",
       "    <tr style=\"text-align: right;\">\n",
       "      <th></th>\n",
       "      <th>name</th>\n",
       "      <th>age</th>\n",
       "    </tr>\n",
       "  </thead>\n",
       "  <tbody>\n",
       "    <tr>\n",
       "      <th>0</th>\n",
       "      <td>abby</td>\n",
       "      <td>10</td>\n",
       "    </tr>\n",
       "    <tr>\n",
       "      <th>1</th>\n",
       "      <td>bob</td>\n",
       "      <td>11</td>\n",
       "    </tr>\n",
       "    <tr>\n",
       "      <th>2</th>\n",
       "      <td>chris</td>\n",
       "      <td>12</td>\n",
       "    </tr>\n",
       "  </tbody>\n",
       "</table>\n",
       "</div>"
      ],
      "text/plain": [
       "    name  age\n",
       "0   abby   10\n",
       "1    bob   11\n",
       "2  chris   12"
      ]
     },
     "execution_count": 12,
     "metadata": {},
     "output_type": "execute_result"
    }
   ],
   "source": [
    "pd.read_json(\"data/demo.json\", lines=True, orient=\"values\")"
   ]
  },
  {
   "cell_type": "code",
   "execution_count": 5,
   "id": "4f30ac0e-2831-4b64-9220-b41798e06048",
   "metadata": {},
   "outputs": [
    {
     "data": {
      "text/html": [
       "<div>\n",
       "<style scoped>\n",
       "    .dataframe tbody tr th:only-of-type {\n",
       "        vertical-align: middle;\n",
       "    }\n",
       "\n",
       "    .dataframe tbody tr th {\n",
       "        vertical-align: top;\n",
       "    }\n",
       "\n",
       "    .dataframe thead th {\n",
       "        text-align: right;\n",
       "    }\n",
       "</style>\n",
       "<table border=\"1\" class=\"dataframe\">\n",
       "  <thead>\n",
       "    <tr style=\"text-align: right;\">\n",
       "      <th></th>\n",
       "      <th>TIMESTAMP</th>\n",
       "      <th>COURSE</th>\n",
       "      <th>TERM</th>\n",
       "      <th>USER</th>\n",
       "      <th>STUDENT</th>\n",
       "      <th>PATH</th>\n",
       "      <th>ASSIGNMENT</th>\n",
       "      <th>POINTS</th>\n",
       "      <th>DUE DATE</th>\n",
       "      <th>LATE</th>\n",
       "      <th>STATUS</th>\n",
       "      <th>RECIEPT</th>\n",
       "    </tr>\n",
       "  </thead>\n",
       "  <tbody>\n",
       "    <tr>\n",
       "      <th>0</th>\n",
       "      <td>2024-01-06 13:14:00</td>\n",
       "      <td>ist256</td>\n",
       "      <td>spring2024</td>\n",
       "      <td>mafudge@syr.edu</td>\n",
       "      <td>True</td>\n",
       "      <td>ist256/spring2024/00-testing/testing.ipynb</td>\n",
       "      <td>testing.ipynb</td>\n",
       "      <td>5</td>\n",
       "      <td>2024-09-20 23:59</td>\n",
       "      <td>False</td>\n",
       "      <td>On Time</td>\n",
       "      <td>28158a2cb4b3c23fc46b7a169b287c3c</td>\n",
       "    </tr>\n",
       "    <tr>\n",
       "      <th>1</th>\n",
       "      <td>2024-01-06 13:15:00</td>\n",
       "      <td>ist256</td>\n",
       "      <td>spring2024</td>\n",
       "      <td>mafudge@syr.edu</td>\n",
       "      <td>True</td>\n",
       "      <td>ist256/spring2024/00-testing/testing.ipynb</td>\n",
       "      <td>testing.ipynb</td>\n",
       "      <td>5</td>\n",
       "      <td>2024-09-20 23:59</td>\n",
       "      <td>False</td>\n",
       "      <td>On Time</td>\n",
       "      <td>28158a2cb4b3c23fc46b7a169b287c3c</td>\n",
       "    </tr>\n",
       "  </tbody>\n",
       "</table>\n",
       "</div>"
      ],
      "text/plain": [
       "            TIMESTAMP  COURSE        TERM             USER  STUDENT  \\\n",
       "0 2024-01-06 13:14:00  ist256  spring2024  mafudge@syr.edu     True   \n",
       "1 2024-01-06 13:15:00  ist256  spring2024  mafudge@syr.edu     True   \n",
       "\n",
       "                                         PATH     ASSIGNMENT  POINTS  \\\n",
       "0  ist256/spring2024/00-testing/testing.ipynb  testing.ipynb       5   \n",
       "1  ist256/spring2024/00-testing/testing.ipynb  testing.ipynb       5   \n",
       "\n",
       "           DUE DATE   LATE   STATUS                           RECIEPT  \n",
       "0  2024-09-20 23:59  False  On Time  28158a2cb4b3c23fc46b7a169b287c3c  \n",
       "1  2024-09-20 23:59  False  On Time  28158a2cb4b3c23fc46b7a169b287c3c  "
      ]
     },
     "execution_count": 5,
     "metadata": {},
     "output_type": "execute_result"
    }
   ],
   "source": [
    "from assignment import Assignment\n",
    "Assignment().read_submission_log()"
   ]
  },
  {
   "cell_type": "code",
   "execution_count": null,
   "id": "0401fd06-4301-4a52-9303-97d2ac45b1d7",
   "metadata": {},
   "outputs": [],
   "source": []
  }
 ],
 "metadata": {
  "kernelspec": {
   "display_name": "Python 3 (ipykernel)",
   "language": "python",
   "name": "python3"
  },
  "language_info": {
   "codemirror_mode": {
    "name": "ipython",
    "version": 3
   },
   "file_extension": ".py",
   "mimetype": "text/x-python",
   "name": "python",
   "nbconvert_exporter": "python",
   "pygments_lexer": "ipython3",
   "version": "3.11.7"
  }
 },
 "nbformat": 4,
 "nbformat_minor": 5
}
