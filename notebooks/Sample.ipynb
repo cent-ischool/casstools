{
 "cells": [
  {
   "cell_type": "code",
   "execution_count": 1,
   "id": "f63b72e1-e1ac-48b8-b705-09af1f2d585e",
   "metadata": {
    "tags": []
   },
   "outputs": [
    {
     "name": "stdout",
     "output_type": "stream",
     "text": [
      "✅ TIMESTAMP  : 2024-01-06 19:10\n",
      "💣 ERROR GETTING COURSE INFORMATION 💣\n",
      "❌ Error Details: 404 Client Error: Not Found for url: https://cass.app.cent-su.org/courses/git-casstools\n",
      "Possible Causes:\n",
      " - Is the course: 'git' a registered course?\n",
      " - Is the term: 'casstools' an term in that course?\n"
     ]
    }
   ],
   "source": [
    "from casstools.assignment import Assignment\n",
    "Assignment().submit()"
   ]
  },
  {
   "cell_type": "code",
   "execution_count": 2,
   "id": "6e534585-d1b1-4cd6-8664-730a7c859116",
   "metadata": {
    "tags": []
   },
   "outputs": [
    {
     "name": "stdout",
     "output_type": "stream",
     "text": [
      "✅ TIMESTAMP  : 2024-01-06 19:10\n",
      "✅ COURSE     : ist256\n",
      "✅ TERM       : spring2024\n",
      "💣 ERROR GETTING YOUR USER INFORMATION 💣\n",
      "❌ Error Details: 404 Client Error: Not Found for url: https://cass.app.cent-su.org/courses/ist256-spring2024/roster/myroles\n",
      "Possible Causes:\n"
     ]
    },
    {
     "ename": "NameError",
     "evalue": "name 'me' is not defined",
     "output_type": "error",
     "traceback": [
      "\u001b[0;31m---------------------------------------------------------------------------\u001b[0m",
      "\u001b[0;31mHTTPError\u001b[0m                                 Traceback (most recent call last)",
      "File \u001b[0;32m/opt/conda/lib/python3.11/site-packages/casstools/assignment.py:95\u001b[0m, in \u001b[0;36mAssignment.submit\u001b[0;34m(self, ui)\u001b[0m\n\u001b[1;32m     94\u001b[0m \u001b[38;5;28;01mtry\u001b[39;00m:\n\u001b[0;32m---> 95\u001b[0m     user \u001b[38;5;241m=\u001b[39m \u001b[38;5;28;43mself\u001b[39;49m\u001b[38;5;241;43m.\u001b[39;49m\u001b[43mclient\u001b[49m\u001b[38;5;241;43m.\u001b[39;49m\u001b[43mget_user_course_info\u001b[49m\u001b[43m(\u001b[49m\u001b[43mcourse_key\u001b[49m\u001b[43m)\u001b[49m\n\u001b[1;32m     96\u001b[0m     student \u001b[38;5;241m=\u001b[39m user[\u001b[38;5;124m'\u001b[39m\u001b[38;5;124mname\u001b[39m\u001b[38;5;124m'\u001b[39m]\n",
      "File \u001b[0;32m/opt/conda/lib/python3.11/site-packages/casstools/cass_client.py:83\u001b[0m, in \u001b[0;36mCassClient.get_user_course_info\u001b[0;34m(self, course_key)\u001b[0m\n\u001b[1;32m     82\u001b[0m response \u001b[38;5;241m=\u001b[39m requests\u001b[38;5;241m.\u001b[39mget(\u001b[38;5;124mf\u001b[39m\u001b[38;5;124m\"\u001b[39m\u001b[38;5;132;01m{\u001b[39;00m\u001b[38;5;28mself\u001b[39m\u001b[38;5;241m.\u001b[39m_cass_url_\u001b[38;5;132;01m}\u001b[39;00m\u001b[38;5;124m/courses/\u001b[39m\u001b[38;5;132;01m{\u001b[39;00mcourse_key\u001b[38;5;132;01m}\u001b[39;00m\u001b[38;5;124m/roster/myroles\u001b[39m\u001b[38;5;124m\"\u001b[39m, headers\u001b[38;5;241m=\u001b[39mheaders)\n\u001b[0;32m---> 83\u001b[0m \u001b[43mresponse\u001b[49m\u001b[38;5;241;43m.\u001b[39;49m\u001b[43mraise_for_status\u001b[49m\u001b[43m(\u001b[49m\u001b[43m)\u001b[49m\n\u001b[1;32m     84\u001b[0m \u001b[38;5;28;01mreturn\u001b[39;00m response\u001b[38;5;241m.\u001b[39mjson()\n",
      "File \u001b[0;32m/opt/conda/lib/python3.11/site-packages/requests/models.py:1021\u001b[0m, in \u001b[0;36mResponse.raise_for_status\u001b[0;34m(self)\u001b[0m\n\u001b[1;32m   1020\u001b[0m \u001b[38;5;28;01mif\u001b[39;00m http_error_msg:\n\u001b[0;32m-> 1021\u001b[0m     \u001b[38;5;28;01mraise\u001b[39;00m HTTPError(http_error_msg, response\u001b[38;5;241m=\u001b[39m\u001b[38;5;28mself\u001b[39m)\n",
      "\u001b[0;31mHTTPError\u001b[0m: 404 Client Error: Not Found for url: https://cass.app.cent-su.org/courses/ist256-spring2024/roster/myroles",
      "\nDuring handling of the above exception, another exception occurred:\n",
      "\u001b[0;31mNameError\u001b[0m                                 Traceback (most recent call last)",
      "Cell \u001b[0;32mIn[2], line 3\u001b[0m\n\u001b[1;32m      1\u001b[0m filespec\u001b[38;5;241m=\u001b[39m\u001b[38;5;124m\"\u001b[39m\u001b[38;5;124m/home/jovyan/library/ist256/spring2024/00-testing/testing.ipynb\u001b[39m\u001b[38;5;124m\"\u001b[39m\n\u001b[1;32m      2\u001b[0m \u001b[38;5;28;01mfrom\u001b[39;00m \u001b[38;5;21;01mcasstools\u001b[39;00m\u001b[38;5;21;01m.\u001b[39;00m\u001b[38;5;21;01massignment\u001b[39;00m \u001b[38;5;28;01mimport\u001b[39;00m Assignment\n\u001b[0;32m----> 3\u001b[0m \u001b[43mAssignment\u001b[49m\u001b[43m(\u001b[49m\u001b[43mfilespec\u001b[49m\u001b[38;5;241;43m=\u001b[39;49m\u001b[43mfilespec\u001b[49m\u001b[43m)\u001b[49m\u001b[38;5;241;43m.\u001b[39;49m\u001b[43msubmit\u001b[49m\u001b[43m(\u001b[49m\u001b[43m)\u001b[49m\n",
      "File \u001b[0;32m/opt/conda/lib/python3.11/site-packages/casstools/assignment.py:100\u001b[0m, in \u001b[0;36mAssignment.submit\u001b[0;34m(self, ui)\u001b[0m\n\u001b[1;32m     98\u001b[0m     \u001b[38;5;28mprint\u001b[39m(\u001b[38;5;124mf\u001b[39m\u001b[38;5;124m\"\u001b[39m\u001b[38;5;132;01m{\u001b[39;00mOK\u001b[38;5;132;01m}\u001b[39;00m\u001b[38;5;124m STUDENT    : \u001b[39m\u001b[38;5;132;01m{\u001b[39;00muser[\u001b[38;5;124m'\u001b[39m\u001b[38;5;124mstudent\u001b[39m\u001b[38;5;124m'\u001b[39m]\u001b[38;5;132;01m}\u001b[39;00m\u001b[38;5;124m\"\u001b[39m)\n\u001b[1;32m     99\u001b[0m \u001b[38;5;28;01mexcept\u001b[39;00m \u001b[38;5;167;01mException\u001b[39;00m \u001b[38;5;28;01mas\u001b[39;00m e:\n\u001b[0;32m--> 100\u001b[0m     \u001b[38;5;28;43mself\u001b[39;49m\u001b[38;5;241;43m.\u001b[39;49m\u001b[43m_user_error\u001b[49m\u001b[43m(\u001b[49m\u001b[43me\u001b[49m\u001b[43m)\u001b[49m\n\u001b[1;32m    101\u001b[0m     \u001b[38;5;28;01mreturn\u001b[39;00m \n\u001b[1;32m    103\u001b[0m \u001b[38;5;66;03m####################################\u001b[39;00m\n\u001b[1;32m    104\u001b[0m \u001b[38;5;66;03m#Assignment Check\u001b[39;00m\n",
      "File \u001b[0;32m/opt/conda/lib/python3.11/site-packages/casstools/assignment.py:200\u001b[0m, in \u001b[0;36mAssignment._user_error\u001b[0;34m(self, e)\u001b[0m\n\u001b[1;32m    198\u001b[0m \u001b[38;5;28mprint\u001b[39m(\u001b[38;5;124mf\u001b[39m\u001b[38;5;124m\"\u001b[39m\u001b[38;5;132;01m{\u001b[39;00mCANCEL\u001b[38;5;132;01m}\u001b[39;00m\u001b[38;5;124m Error Details:\u001b[39m\u001b[38;5;124m\"\u001b[39m, e)\n\u001b[1;32m    199\u001b[0m \u001b[38;5;28mprint\u001b[39m(\u001b[38;5;124m\"\u001b[39m\u001b[38;5;124mPossible Causes:\u001b[39m\u001b[38;5;124m\"\u001b[39m)\n\u001b[0;32m--> 200\u001b[0m \u001b[38;5;28mprint\u001b[39m(\u001b[38;5;124mf\u001b[39m\u001b[38;5;124m\"\u001b[39m\u001b[38;5;124m - Are you: \u001b[39m\u001b[38;5;124m'\u001b[39m\u001b[38;5;132;01m{\u001b[39;00m\u001b[43mme\u001b[49m[\u001b[38;5;124m'\u001b[39m\u001b[38;5;124mname\u001b[39m\u001b[38;5;124m'\u001b[39m]\u001b[38;5;132;01m}\u001b[39;00m\u001b[38;5;124m'\u001b[39m\u001b[38;5;124m on the class roster?\u001b[39m\u001b[38;5;124m\"\u001b[39m)\n\u001b[1;32m    201\u001b[0m \u001b[38;5;28mprint\u001b[39m(\u001b[38;5;124mf\u001b[39m\u001b[38;5;124m\"\u001b[39m\u001b[38;5;124m - Are you: \u001b[39m\u001b[38;5;124m'\u001b[39m\u001b[38;5;132;01m{\u001b[39;00mme[\u001b[38;5;124m'\u001b[39m\u001b[38;5;124mname\u001b[39m\u001b[38;5;124m'\u001b[39m]\u001b[38;5;132;01m}\u001b[39;00m\u001b[38;5;124m'\u001b[39m\u001b[38;5;124m listed as a student on class roster?\u001b[39m\u001b[38;5;124m\"\u001b[39m)\n",
      "\u001b[0;31mNameError\u001b[0m: name 'me' is not defined"
     ]
    }
   ],
   "source": [
    "filespec=\"/home/jovyan/library/ist256/spring2024/00-testing/testing.ipynb\"\n",
    "from casstools.assignment import Assignment\n",
    "Assignment(filespec=filespec).submit()"
   ]
  },
  {
   "cell_type": "code",
   "execution_count": 1,
   "id": "f95a9f17-014b-41e6-8747-79677f110c8f",
   "metadata": {},
   "outputs": [
    {
     "name": "stdin",
     "output_type": "stream",
     "text": [
      "ℹ Submit Again? [y/n] ❓  ds\n"
     ]
    },
    {
     "data": {
      "text/plain": [
       "False"
      ]
     },
     "execution_count": 1,
     "metadata": {},
     "output_type": "execute_result"
    }
   ],
   "source": [
    "from assignment import Assignment\n",
    "Assignment()._confirm_submission(False,True)"
   ]
  },
  {
   "cell_type": "code",
   "execution_count": null,
   "id": "15adb921-4233-48c4-a280-660bd6be0768",
   "metadata": {},
   "outputs": [],
   "source": []
  },
  {
   "cell_type": "code",
   "execution_count": null,
   "id": "37dbc485-714a-42ea-a428-5d11499d8052",
   "metadata": {},
   "outputs": [],
   "source": []
  },
  {
   "cell_type": "code",
   "execution_count": 3,
   "id": "ae5e4a8b-9c9c-464e-a1e7-e006315efd93",
   "metadata": {},
   "outputs": [],
   "source": [
    "from datetime import datetime"
   ]
  },
  {
   "cell_type": "code",
   "execution_count": 17,
   "id": "1f1a1812-b2f0-4f7b-8d17-94d4700cc5a0",
   "metadata": {},
   "outputs": [],
   "source": [
    "assignment_due_date = \"2024-09-20 23:59\"\n",
    "due = datetime.strptime(assignment_due_date, \"%Y-%m-%d %H:%M\")\n",
    "now = datetime.now()"
   ]
  },
  {
   "cell_type": "code",
   "execution_count": 15,
   "id": "d9dc2dca-0ee9-4549-8fbe-272e889a2c40",
   "metadata": {},
   "outputs": [
    {
     "data": {
      "text/plain": [
       "'2024-01-06 12:34'"
      ]
     },
     "execution_count": 15,
     "metadata": {},
     "output_type": "execute_result"
    }
   ],
   "source": [
    "now.strftime(\"%Y-%m-%d %H:%M\")"
   ]
  },
  {
   "cell_type": "code",
   "execution_count": 21,
   "id": "a31444a6-ea84-4b22-895e-072317a8184a",
   "metadata": {},
   "outputs": [
    {
     "data": {
      "text/plain": [
       "True"
      ]
     },
     "execution_count": 21,
     "metadata": {},
     "output_type": "execute_result"
    }
   ],
   "source": [
    "now <= due"
   ]
  },
  {
   "cell_type": "code",
   "execution_count": 2,
   "id": "4ae6ec51-b23e-456b-87af-11727ac76213",
   "metadata": {},
   "outputs": [],
   "source": [
    "import pandas as pd"
   ]
  },
  {
   "cell_type": "code",
   "execution_count": 12,
   "id": "ae8c768f-830d-4351-a65b-42859daa3fe4",
   "metadata": {},
   "outputs": [
    {
     "data": {
      "text/html": [
       "<div>\n",
       "<style scoped>\n",
       "    .dataframe tbody tr th:only-of-type {\n",
       "        vertical-align: middle;\n",
       "    }\n",
       "\n",
       "    .dataframe tbody tr th {\n",
       "        vertical-align: top;\n",
       "    }\n",
       "\n",
       "    .dataframe thead th {\n",
       "        text-align: right;\n",
       "    }\n",
       "</style>\n",
       "<table border=\"1\" class=\"dataframe\">\n",
       "  <thead>\n",
       "    <tr style=\"text-align: right;\">\n",
       "      <th></th>\n",
       "      <th>name</th>\n",
       "      <th>age</th>\n",
       "    </tr>\n",
       "  </thead>\n",
       "  <tbody>\n",
       "    <tr>\n",
       "      <th>0</th>\n",
       "      <td>abby</td>\n",
       "      <td>10</td>\n",
       "    </tr>\n",
       "    <tr>\n",
       "      <th>1</th>\n",
       "      <td>bob</td>\n",
       "      <td>11</td>\n",
       "    </tr>\n",
       "    <tr>\n",
       "      <th>2</th>\n",
       "      <td>chris</td>\n",
       "      <td>12</td>\n",
       "    </tr>\n",
       "  </tbody>\n",
       "</table>\n",
       "</div>"
      ],
      "text/plain": [
       "    name  age\n",
       "0   abby   10\n",
       "1    bob   11\n",
       "2  chris   12"
      ]
     },
     "execution_count": 12,
     "metadata": {},
     "output_type": "execute_result"
    }
   ],
   "source": [
    "pd.read_json(\"data/demo.json\", lines=True, orient=\"values\")"
   ]
  },
  {
   "cell_type": "code",
   "execution_count": 5,
   "id": "4f30ac0e-2831-4b64-9220-b41798e06048",
   "metadata": {},
   "outputs": [
    {
     "data": {
      "text/html": [
       "<div>\n",
       "<style scoped>\n",
       "    .dataframe tbody tr th:only-of-type {\n",
       "        vertical-align: middle;\n",
       "    }\n",
       "\n",
       "    .dataframe tbody tr th {\n",
       "        vertical-align: top;\n",
       "    }\n",
       "\n",
       "    .dataframe thead th {\n",
       "        text-align: right;\n",
       "    }\n",
       "</style>\n",
       "<table border=\"1\" class=\"dataframe\">\n",
       "  <thead>\n",
       "    <tr style=\"text-align: right;\">\n",
       "      <th></th>\n",
       "      <th>TIMESTAMP</th>\n",
       "      <th>COURSE</th>\n",
       "      <th>TERM</th>\n",
       "      <th>USER</th>\n",
       "      <th>STUDENT</th>\n",
       "      <th>PATH</th>\n",
       "      <th>ASSIGNMENT</th>\n",
       "      <th>POINTS</th>\n",
       "      <th>DUE DATE</th>\n",
       "      <th>LATE</th>\n",
       "      <th>STATUS</th>\n",
       "      <th>RECIEPT</th>\n",
       "    </tr>\n",
       "  </thead>\n",
       "  <tbody>\n",
       "    <tr>\n",
       "      <th>0</th>\n",
       "      <td>2024-01-06 13:14:00</td>\n",
       "      <td>ist256</td>\n",
       "      <td>spring2024</td>\n",
       "      <td>mafudge@syr.edu</td>\n",
       "      <td>True</td>\n",
       "      <td>ist256/spring2024/00-testing/testing.ipynb</td>\n",
       "      <td>testing.ipynb</td>\n",
       "      <td>5</td>\n",
       "      <td>2024-09-20 23:59</td>\n",
       "      <td>False</td>\n",
       "      <td>On Time</td>\n",
       "      <td>28158a2cb4b3c23fc46b7a169b287c3c</td>\n",
       "    </tr>\n",
       "    <tr>\n",
       "      <th>1</th>\n",
       "      <td>2024-01-06 13:15:00</td>\n",
       "      <td>ist256</td>\n",
       "      <td>spring2024</td>\n",
       "      <td>mafudge@syr.edu</td>\n",
       "      <td>True</td>\n",
       "      <td>ist256/spring2024/00-testing/testing.ipynb</td>\n",
       "      <td>testing.ipynb</td>\n",
       "      <td>5</td>\n",
       "      <td>2024-09-20 23:59</td>\n",
       "      <td>False</td>\n",
       "      <td>On Time</td>\n",
       "      <td>28158a2cb4b3c23fc46b7a169b287c3c</td>\n",
       "    </tr>\n",
       "  </tbody>\n",
       "</table>\n",
       "</div>"
      ],
      "text/plain": [
       "            TIMESTAMP  COURSE        TERM             USER  STUDENT  \\\n",
       "0 2024-01-06 13:14:00  ist256  spring2024  mafudge@syr.edu     True   \n",
       "1 2024-01-06 13:15:00  ist256  spring2024  mafudge@syr.edu     True   \n",
       "\n",
       "                                         PATH     ASSIGNMENT  POINTS  \\\n",
       "0  ist256/spring2024/00-testing/testing.ipynb  testing.ipynb       5   \n",
       "1  ist256/spring2024/00-testing/testing.ipynb  testing.ipynb       5   \n",
       "\n",
       "           DUE DATE   LATE   STATUS                           RECIEPT  \n",
       "0  2024-09-20 23:59  False  On Time  28158a2cb4b3c23fc46b7a169b287c3c  \n",
       "1  2024-09-20 23:59  False  On Time  28158a2cb4b3c23fc46b7a169b287c3c  "
      ]
     },
     "execution_count": 5,
     "metadata": {},
     "output_type": "execute_result"
    }
   ],
   "source": [
    "from assignment import Assignment\n",
    "Assignment().read_submission_log()"
   ]
  },
  {
   "cell_type": "code",
   "execution_count": null,
   "id": "0401fd06-4301-4a52-9303-97d2ac45b1d7",
   "metadata": {},
   "outputs": [],
   "source": []
  }
 ],
 "metadata": {
  "kernelspec": {
   "display_name": "Python 3 (ipykernel)",
   "language": "python",
   "name": "python3"
  },
  "language_info": {
   "codemirror_mode": {
    "name": "ipython",
    "version": 3
   },
   "file_extension": ".py",
   "mimetype": "text/x-python",
   "name": "python",
   "nbconvert_exporter": "python",
   "pygments_lexer": "ipython3",
   "version": "3.11.7"
  }
 },
 "nbformat": 4,
 "nbformat_minor": 5
}
