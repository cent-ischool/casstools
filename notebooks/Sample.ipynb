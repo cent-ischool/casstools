{
 "cells": [
  {
   "cell_type": "code",
   "execution_count": 1,
   "id": "f63b72e1-e1ac-48b8-b705-09af1f2d585e",
   "metadata": {
    "tags": []
   },
   "outputs": [
    {
     "name": "stdout",
     "output_type": "stream",
     "text": [
      "✅ TIMESTAMP  : 2024-01-06 18:23\n",
      "💣 ERROR GETTING COURSE INFORMATION 💣\n",
      "❌ Error Details: HTTPConnectionPool(host='api', port=8000): Max retries exceeded with url: /courses/git-casstools (Caused by NameResolutionError(\"<urllib3.connection.HTTPConnection object at 0x7f4bc774a050>: Failed to resolve 'api' ([Errno -2] Name or service not known)\"))\n",
      "Possible Causes:\n",
      " - Is the course: 'git' a registered course?\n",
      " - Is the term: 'casstools' an term in that course?\n"
     ]
    }
   ],
   "source": [
    "from casstools.assignment import Assignment\n",
    "Assignment().submit()"
   ]
  },
  {
   "cell_type": "code",
   "execution_count": null,
   "id": "6e534585-d1b1-4cd6-8664-730a7c859116",
   "metadata": {
    "tags": []
   },
   "outputs": [],
   "source": [
    "filespec=\"/home/jovyan/library/ist256/spring2024/00-testing/testing.ipynb\"\n",
    "from casstools.assignment import Assignment\n",
    "Assignment(filespec=filespec).submit()"
   ]
  },
  {
   "cell_type": "code",
   "execution_count": 1,
   "id": "f95a9f17-014b-41e6-8747-79677f110c8f",
   "metadata": {},
   "outputs": [
    {
     "name": "stdin",
     "output_type": "stream",
     "text": [
      "ℹ Submit Again? [y/n] ❓  ds\n"
     ]
    },
    {
     "data": {
      "text/plain": [
       "False"
      ]
     },
     "execution_count": 1,
     "metadata": {},
     "output_type": "execute_result"
    }
   ],
   "source": [
    "from assignment import Assignment\n",
    "Assignment()._confirm_submission(False,True)"
   ]
  },
  {
   "cell_type": "code",
   "execution_count": null,
   "id": "15adb921-4233-48c4-a280-660bd6be0768",
   "metadata": {},
   "outputs": [],
   "source": []
  },
  {
   "cell_type": "code",
   "execution_count": null,
   "id": "37dbc485-714a-42ea-a428-5d11499d8052",
   "metadata": {},
   "outputs": [],
   "source": []
  },
  {
   "cell_type": "code",
   "execution_count": 3,
   "id": "ae5e4a8b-9c9c-464e-a1e7-e006315efd93",
   "metadata": {},
   "outputs": [],
   "source": [
    "from datetime import datetime"
   ]
  },
  {
   "cell_type": "code",
   "execution_count": 17,
   "id": "1f1a1812-b2f0-4f7b-8d17-94d4700cc5a0",
   "metadata": {},
   "outputs": [],
   "source": [
    "assignment_due_date = \"2024-09-20 23:59\"\n",
    "due = datetime.strptime(assignment_due_date, \"%Y-%m-%d %H:%M\")\n",
    "now = datetime.now()"
   ]
  },
  {
   "cell_type": "code",
   "execution_count": 15,
   "id": "d9dc2dca-0ee9-4549-8fbe-272e889a2c40",
   "metadata": {},
   "outputs": [
    {
     "data": {
      "text/plain": [
       "'2024-01-06 12:34'"
      ]
     },
     "execution_count": 15,
     "metadata": {},
     "output_type": "execute_result"
    }
   ],
   "source": [
    "now.strftime(\"%Y-%m-%d %H:%M\")"
   ]
  },
  {
   "cell_type": "code",
   "execution_count": 21,
   "id": "a31444a6-ea84-4b22-895e-072317a8184a",
   "metadata": {},
   "outputs": [
    {
     "data": {
      "text/plain": [
       "True"
      ]
     },
     "execution_count": 21,
     "metadata": {},
     "output_type": "execute_result"
    }
   ],
   "source": [
    "now <= due"
   ]
  },
  {
   "cell_type": "code",
   "execution_count": 2,
   "id": "4ae6ec51-b23e-456b-87af-11727ac76213",
   "metadata": {},
   "outputs": [],
   "source": [
    "import pandas as pd"
   ]
  },
  {
   "cell_type": "code",
   "execution_count": 12,
   "id": "ae8c768f-830d-4351-a65b-42859daa3fe4",
   "metadata": {},
   "outputs": [
    {
     "data": {
      "text/html": [
       "<div>\n",
       "<style scoped>\n",
       "    .dataframe tbody tr th:only-of-type {\n",
       "        vertical-align: middle;\n",
       "    }\n",
       "\n",
       "    .dataframe tbody tr th {\n",
       "        vertical-align: top;\n",
       "    }\n",
       "\n",
       "    .dataframe thead th {\n",
       "        text-align: right;\n",
       "    }\n",
       "</style>\n",
       "<table border=\"1\" class=\"dataframe\">\n",
       "  <thead>\n",
       "    <tr style=\"text-align: right;\">\n",
       "      <th></th>\n",
       "      <th>name</th>\n",
       "      <th>age</th>\n",
       "    </tr>\n",
       "  </thead>\n",
       "  <tbody>\n",
       "    <tr>\n",
       "      <th>0</th>\n",
       "      <td>abby</td>\n",
       "      <td>10</td>\n",
       "    </tr>\n",
       "    <tr>\n",
       "      <th>1</th>\n",
       "      <td>bob</td>\n",
       "      <td>11</td>\n",
       "    </tr>\n",
       "    <tr>\n",
       "      <th>2</th>\n",
       "      <td>chris</td>\n",
       "      <td>12</td>\n",
       "    </tr>\n",
       "  </tbody>\n",
       "</table>\n",
       "</div>"
      ],
      "text/plain": [
       "    name  age\n",
       "0   abby   10\n",
       "1    bob   11\n",
       "2  chris   12"
      ]
     },
     "execution_count": 12,
     "metadata": {},
     "output_type": "execute_result"
    }
   ],
   "source": [
    "pd.read_json(\"data/demo.json\", lines=True, orient=\"values\")"
   ]
  },
  {
   "cell_type": "code",
   "execution_count": 5,
   "id": "4f30ac0e-2831-4b64-9220-b41798e06048",
   "metadata": {},
   "outputs": [
    {
     "data": {
      "text/html": [
       "<div>\n",
       "<style scoped>\n",
       "    .dataframe tbody tr th:only-of-type {\n",
       "        vertical-align: middle;\n",
       "    }\n",
       "\n",
       "    .dataframe tbody tr th {\n",
       "        vertical-align: top;\n",
       "    }\n",
       "\n",
       "    .dataframe thead th {\n",
       "        text-align: right;\n",
       "    }\n",
       "</style>\n",
       "<table border=\"1\" class=\"dataframe\">\n",
       "  <thead>\n",
       "    <tr style=\"text-align: right;\">\n",
       "      <th></th>\n",
       "      <th>TIMESTAMP</th>\n",
       "      <th>COURSE</th>\n",
       "      <th>TERM</th>\n",
       "      <th>USER</th>\n",
       "      <th>STUDENT</th>\n",
       "      <th>PATH</th>\n",
       "      <th>ASSIGNMENT</th>\n",
       "      <th>POINTS</th>\n",
       "      <th>DUE DATE</th>\n",
       "      <th>LATE</th>\n",
       "      <th>STATUS</th>\n",
       "      <th>RECIEPT</th>\n",
       "    </tr>\n",
       "  </thead>\n",
       "  <tbody>\n",
       "    <tr>\n",
       "      <th>0</th>\n",
       "      <td>2024-01-06 13:14:00</td>\n",
       "      <td>ist256</td>\n",
       "      <td>spring2024</td>\n",
       "      <td>mafudge@syr.edu</td>\n",
       "      <td>True</td>\n",
       "      <td>ist256/spring2024/00-testing/testing.ipynb</td>\n",
       "      <td>testing.ipynb</td>\n",
       "      <td>5</td>\n",
       "      <td>2024-09-20 23:59</td>\n",
       "      <td>False</td>\n",
       "      <td>On Time</td>\n",
       "      <td>28158a2cb4b3c23fc46b7a169b287c3c</td>\n",
       "    </tr>\n",
       "    <tr>\n",
       "      <th>1</th>\n",
       "      <td>2024-01-06 13:15:00</td>\n",
       "      <td>ist256</td>\n",
       "      <td>spring2024</td>\n",
       "      <td>mafudge@syr.edu</td>\n",
       "      <td>True</td>\n",
       "      <td>ist256/spring2024/00-testing/testing.ipynb</td>\n",
       "      <td>testing.ipynb</td>\n",
       "      <td>5</td>\n",
       "      <td>2024-09-20 23:59</td>\n",
       "      <td>False</td>\n",
       "      <td>On Time</td>\n",
       "      <td>28158a2cb4b3c23fc46b7a169b287c3c</td>\n",
       "    </tr>\n",
       "  </tbody>\n",
       "</table>\n",
       "</div>"
      ],
      "text/plain": [
       "            TIMESTAMP  COURSE        TERM             USER  STUDENT  \\\n",
       "0 2024-01-06 13:14:00  ist256  spring2024  mafudge@syr.edu     True   \n",
       "1 2024-01-06 13:15:00  ist256  spring2024  mafudge@syr.edu     True   \n",
       "\n",
       "                                         PATH     ASSIGNMENT  POINTS  \\\n",
       "0  ist256/spring2024/00-testing/testing.ipynb  testing.ipynb       5   \n",
       "1  ist256/spring2024/00-testing/testing.ipynb  testing.ipynb       5   \n",
       "\n",
       "           DUE DATE   LATE   STATUS                           RECIEPT  \n",
       "0  2024-09-20 23:59  False  On Time  28158a2cb4b3c23fc46b7a169b287c3c  \n",
       "1  2024-09-20 23:59  False  On Time  28158a2cb4b3c23fc46b7a169b287c3c  "
      ]
     },
     "execution_count": 5,
     "metadata": {},
     "output_type": "execute_result"
    }
   ],
   "source": [
    "from assignment import Assignment\n",
    "Assignment().read_submission_log()"
   ]
  },
  {
   "cell_type": "code",
   "execution_count": null,
   "id": "0401fd06-4301-4a52-9303-97d2ac45b1d7",
   "metadata": {},
   "outputs": [],
   "source": []
  }
 ],
 "metadata": {
  "kernelspec": {
   "display_name": "Python 3 (ipykernel)",
   "language": "python",
   "name": "python3"
  },
  "language_info": {
   "codemirror_mode": {
    "name": "ipython",
    "version": 3
   },
   "file_extension": ".py",
   "mimetype": "text/x-python",
   "name": "python",
   "nbconvert_exporter": "python",
   "pygments_lexer": "ipython3",
   "version": "3.11.7"
  }
 },
 "nbformat": 4,
 "nbformat_minor": 5
}
